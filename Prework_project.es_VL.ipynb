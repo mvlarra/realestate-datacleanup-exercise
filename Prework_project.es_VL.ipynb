{
  "cells": [
    {
      "attachments": {},
      "cell_type": "markdown",
      "id": "innocent-university",
      "metadata": {},
      "source": [
        "# Limpieza de bienes raíces\n",
        "\n",
        "Este es un conjunto de datos (dataset) reales que fue descargado usando técnicas de web scraping. La data contiene registros de **Fotocasa**, el cual es uno de los sitios más populares de bienes raíces en España. Por favor no hagas esto (web scraping) a no ser que sea para propósitos académicos.\n",
        "\n",
        "El dataset fue descargado hace algunos años por Henry Navarro y en ningún caso se obtuvo beneficio económico de ello.\n",
        "\n",
        "Contiene miles de datos de casas reales publicadas en la web www.fotocasa.com. Tu objetivo es extraer tanta información como sea posible con el conocimiento que tienes hasta ahora de ciencia de datos, por ejemplo ¿cuál es la casa más cara en todo el dataset?\n",
        "\n",
        "Empecemos precisamente con esa pregunta... ¡Buena suerte!"
      ]
    },
    {
      "attachments": {},
      "cell_type": "markdown",
      "id": "multiple-glass",
      "metadata": {},
      "source": [
        "#### Ejercicio 00. Lee el dataset assets/real_estate.csv e intenta visualizar la tabla (★☆☆)"
      ]
    },
    {
      "cell_type": "markdown",
      "id": "6cd66d54",
      "metadata": {},
      "source": [
        "🔥Step 0.0: Importar Librerias"
      ]
    },
    {
      "cell_type": "code",
      "execution_count": null,
      "id": "4c34a508",
      "metadata": {},
      "outputs": [],
      "source": [
        "# Librerias Basicas en requirements original:\n",
        "\n",
        "# pip install -r requirements.txt\n",
        "\n",
        "# Base ----------------------------------------\n",
        "# pandas>=1.5.3\n",
        "# numpy>=1.24.2\n",
        "# opencv-python>=4.1.2\n",
        "# matplotlib>=3.7.0\n",
        "# ipyleaflet>=0.14.0\n",
        "# jupyter_contrib_nbextensions\n",
        "\n",
        "# Machine learning ----------------------------\n",
        "# scikit-learn\n",
        "\n",
        "# En la terminal ------------------------------\n",
        "# Cargo librerias de requirements file: python -m pip install -r requirements.txt\n",
        "# Actualizo archivo requirements.txt: python -m pip freeze > requirements.txt"
      ]
    },
    {
      "cell_type": "code",
      "execution_count": 1,
      "id": "e090465d",
      "metadata": {},
      "outputs": [],
      "source": [
        "import logging\n",
        "\n",
        "''' Librerias de Datos: '''\n",
        "import pandas as pd\n",
        "import numpy as np\n",
        "\n",
        "''' Librerias Graficas: '''\n",
        "import matplotlib.pyplot as plt\n",
        "import plotly.express as px\n",
        "import seaborn as sns\n",
        "import folium \n",
        "from folium.plugins import MarkerCluster\n"
      ]
    },
    {
      "cell_type": "markdown",
      "id": "5db855c8",
      "metadata": {},
      "source": [
        "🔥 Step 0.1: Importar / definir los modulos o funcinoes necesarias. \n",
        ">   Los modulos son scripts de python que generalmente tienen algunas funciones definidas para agilitar el proceso. "
      ]
    },
    {
      "cell_type": "code",
      "execution_count": 2,
      "id": "66e4ae53",
      "metadata": {},
      "outputs": [],
      "source": [
        "''' \n",
        "En este caso definiremos la funcion:\n",
        "📌📌📌 count_nan_zeros_uniques 📌📌📌\n",
        "que se encargue de contar los nan (not a number), los zeros y los valores unicos para cada columna de mi df.\n",
        "'''\n",
        "def count_nan_zeros_uniques(df): # El argumento que le pasamos a la funcion es un dataframe\n",
        "    nan_zeros_uniques = {}       # Generamos un diccionario vacio\n",
        "    for col in df.columns: # Generamos un loop que mire cada columna del dataframe y\n",
        "        total_count = len(df[col]) # Cuente el nro de observaciones (filas) \n",
        "        nan_count = df[col].isna().sum()  # Cuente el nro de nan en cada columna \n",
        "        zero_count = (df[col]==0).sum()  # Cuente el nro de zeros en cada columna \n",
        "        unique_count = df[col].nunique()  # Cuente el nro de valores unicos que hay en cada columna \n",
        "        nan_zeros_uniques[col] = { # Guardo los valores obtenidos, en las siguientes claves del diccionario\n",
        "            \"NaNs\" : nan_count,\n",
        "            \"Zeros\" : zero_count,\n",
        "            \"Uniques\" : unique_count\n",
        "        }\n",
        "    return pd.DataFrame.from_dict(nan_zeros_uniques, orient = \"index\") \n",
        "# Convierto ese diccionario en un dataframe. \n",
        "# Orient =\"Index\" indica la forma en la que quiero que despliegue la info.\n",
        "# .T transpone la data, si eso nos quedara mas comodo."
      ]
    },
    {
      "cell_type": "markdown",
      "id": "ac6752f0",
      "metadata": {},
      "source": [
        "🔥Step 1: Guardamos el dataset / dataframe como df_raw."
      ]
    },
    {
      "cell_type": "code",
      "execution_count": 3,
      "id": "frank-heath",
      "metadata": {},
      "outputs": [],
      "source": [
        "# Este archivo CSV contiene puntos y comas en lugar de comas como separadores\n",
        "df_raw = pd.read_csv('assets/real_estate.csv', sep=';')"
      ]
    },
    {
      "cell_type": "markdown",
      "id": "93e27526",
      "metadata": {},
      "source": [
        "🔥Step 2: Antes que nada, investigamos el dataframe con .info()"
      ]
    },
    {
      "cell_type": "code",
      "execution_count": 4,
      "id": "f08296e3",
      "metadata": {},
      "outputs": [
        {
          "name": "stdout",
          "output_type": "stream",
          "text": [
            "<class 'pandas.core.frame.DataFrame'>\n",
            "RangeIndex: 15335 entries, 0 to 15334\n",
            "Data columns (total 37 columns):\n",
            " #   Column            Non-Null Count  Dtype  \n",
            "---  ------            --------------  -----  \n",
            " 0   Unnamed: 0        15335 non-null  int64  \n",
            " 1   id_realEstates    15335 non-null  int64  \n",
            " 2   isNew             15335 non-null  bool   \n",
            " 3   realEstate_name   15325 non-null  object \n",
            " 4   phone_realEstate  14541 non-null  float64\n",
            " 5   url_inmueble      15335 non-null  object \n",
            " 6   rooms             14982 non-null  float64\n",
            " 7   bathrooms         14990 non-null  float64\n",
            " 8   surface           14085 non-null  float64\n",
            " 9   price             15335 non-null  int64  \n",
            " 10  date              15335 non-null  object \n",
            " 11  description       15193 non-null  object \n",
            " 12  address           15335 non-null  object \n",
            " 13  country           15335 non-null  object \n",
            " 14  level1            15335 non-null  object \n",
            " 15  level2            15335 non-null  object \n",
            " 16  level3            15335 non-null  object \n",
            " 17  level4            8692 non-null   object \n",
            " 18  level5            15335 non-null  object \n",
            " 19  level6            708 non-null    object \n",
            " 20  level7            13058 non-null  object \n",
            " 21  level8            6756 non-null   object \n",
            " 22  upperLevel        15335 non-null  object \n",
            " 23  countryId         15335 non-null  int64  \n",
            " 24  level1Id          15335 non-null  int64  \n",
            " 25  level2Id          15335 non-null  int64  \n",
            " 26  level3Id          15335 non-null  int64  \n",
            " 27  level4Id          15335 non-null  int64  \n",
            " 28  level5Id          15335 non-null  int64  \n",
            " 29  level6Id          15335 non-null  int64  \n",
            " 30  level7Id          15335 non-null  int64  \n",
            " 31  level8Id          15335 non-null  int64  \n",
            " 32  accuracy          15335 non-null  int64  \n",
            " 33  latitude          15335 non-null  object \n",
            " 34  longitude         15335 non-null  object \n",
            " 35  zipCode           0 non-null      float64\n",
            " 36  customZone        0 non-null      float64\n",
            "dtypes: bool(1), float64(6), int64(13), object(17)\n",
            "memory usage: 4.2+ MB\n"
          ]
        }
      ],
      "source": [
        "df_raw.info()"
      ]
    },
    {
      "cell_type": "markdown",
      "id": "f38880e1",
      "metadata": {},
      "source": [
        "🔥 Step 3: Seguimos investigando el dataset, pero ahora con .sample(10, random_state=2025) "
      ]
    },
    {
      "cell_type": "code",
      "execution_count": 5,
      "id": "4ef29773",
      "metadata": {},
      "outputs": [
        {
          "data": {
            "text/html": [
              "<div>\n",
              "<style scoped>\n",
              "    .dataframe tbody tr th:only-of-type {\n",
              "        vertical-align: middle;\n",
              "    }\n",
              "\n",
              "    .dataframe tbody tr th {\n",
              "        vertical-align: top;\n",
              "    }\n",
              "\n",
              "    .dataframe thead th {\n",
              "        text-align: right;\n",
              "    }\n",
              "</style>\n",
              "<table border=\"1\" class=\"dataframe\">\n",
              "  <thead>\n",
              "    <tr style=\"text-align: right;\">\n",
              "      <th></th>\n",
              "      <th>Unnamed: 0</th>\n",
              "      <th>id_realEstates</th>\n",
              "      <th>isNew</th>\n",
              "      <th>realEstate_name</th>\n",
              "      <th>phone_realEstate</th>\n",
              "      <th>url_inmueble</th>\n",
              "      <th>rooms</th>\n",
              "      <th>bathrooms</th>\n",
              "      <th>surface</th>\n",
              "      <th>price</th>\n",
              "      <th>...</th>\n",
              "      <th>level4Id</th>\n",
              "      <th>level5Id</th>\n",
              "      <th>level6Id</th>\n",
              "      <th>level7Id</th>\n",
              "      <th>level8Id</th>\n",
              "      <th>accuracy</th>\n",
              "      <th>latitude</th>\n",
              "      <th>longitude</th>\n",
              "      <th>zipCode</th>\n",
              "      <th>customZone</th>\n",
              "    </tr>\n",
              "  </thead>\n",
              "  <tbody>\n",
              "    <tr>\n",
              "      <th>11956</th>\n",
              "      <td>11957</td>\n",
              "      <td>153704529</td>\n",
              "      <td>False</td>\n",
              "      <td>habita mad</td>\n",
              "      <td>918007061.0</td>\n",
              "      <td>https://www.fotocasa.es/es/comprar/vivienda/gu...</td>\n",
              "      <td>3.0</td>\n",
              "      <td>1.0</td>\n",
              "      <td>72.0</td>\n",
              "      <td>214000</td>\n",
              "      <td>...</td>\n",
              "      <td>0</td>\n",
              "      <td>0</td>\n",
              "      <td>0</td>\n",
              "      <td>0</td>\n",
              "      <td>0</td>\n",
              "      <td>0</td>\n",
              "      <td>40,46449</td>\n",
              "      <td>-3,63265</td>\n",
              "      <td>NaN</td>\n",
              "      <td>NaN</td>\n",
              "    </tr>\n",
              "    <tr>\n",
              "      <th>7285</th>\n",
              "      <td>7286</td>\n",
              "      <td>150530836</td>\n",
              "      <td>False</td>\n",
              "      <td>desarrollo de viviendas nueva ciudad</td>\n",
              "      <td>916358709.0</td>\n",
              "      <td>https://www.fotocasa.es/vivienda/alcala-de-hen...</td>\n",
              "      <td>3.0</td>\n",
              "      <td>2.0</td>\n",
              "      <td>112.0</td>\n",
              "      <td>243800</td>\n",
              "      <td>...</td>\n",
              "      <td>0</td>\n",
              "      <td>0</td>\n",
              "      <td>0</td>\n",
              "      <td>0</td>\n",
              "      <td>0</td>\n",
              "      <td>0</td>\n",
              "      <td>40,23768</td>\n",
              "      <td>-3,77423</td>\n",
              "      <td>NaN</td>\n",
              "      <td>NaN</td>\n",
              "    </tr>\n",
              "    <tr>\n",
              "      <th>14035</th>\n",
              "      <td>14036</td>\n",
              "      <td>153921873</td>\n",
              "      <td>False</td>\n",
              "      <td>garsierra</td>\n",
              "      <td>912179623.0</td>\n",
              "      <td>https://www.fotocasa.es/es/comprar/vivienda/ti...</td>\n",
              "      <td>1.0</td>\n",
              "      <td>2.0</td>\n",
              "      <td>72.0</td>\n",
              "      <td>85000</td>\n",
              "      <td>...</td>\n",
              "      <td>0</td>\n",
              "      <td>0</td>\n",
              "      <td>0</td>\n",
              "      <td>0</td>\n",
              "      <td>0</td>\n",
              "      <td>1</td>\n",
              "      <td>40,5506749</td>\n",
              "      <td>-3,3772946</td>\n",
              "      <td>NaN</td>\n",
              "      <td>NaN</td>\n",
              "    </tr>\n",
              "    <tr>\n",
              "      <th>10823</th>\n",
              "      <td>10824</td>\n",
              "      <td>150512853</td>\n",
              "      <td>False</td>\n",
              "      <td>covibarges</td>\n",
              "      <td>912175971.0</td>\n",
              "      <td>https://www.fotocasa.es/vivienda/arganda-del-r...</td>\n",
              "      <td>3.0</td>\n",
              "      <td>2.0</td>\n",
              "      <td>107.0</td>\n",
              "      <td>255000</td>\n",
              "      <td>...</td>\n",
              "      <td>0</td>\n",
              "      <td>0</td>\n",
              "      <td>0</td>\n",
              "      <td>0</td>\n",
              "      <td>0</td>\n",
              "      <td>1</td>\n",
              "      <td>40,38219</td>\n",
              "      <td>-3,53069</td>\n",
              "      <td>NaN</td>\n",
              "      <td>NaN</td>\n",
              "    </tr>\n",
              "    <tr>\n",
              "      <th>5778</th>\n",
              "      <td>5779</td>\n",
              "      <td>148949209</td>\n",
              "      <td>False</td>\n",
              "      <td>urban</td>\n",
              "      <td>912780256.0</td>\n",
              "      <td>https://www.fotocasa.es/es/comprar/vivienda/pa...</td>\n",
              "      <td>4.0</td>\n",
              "      <td>4.0</td>\n",
              "      <td>NaN</td>\n",
              "      <td>439000</td>\n",
              "      <td>...</td>\n",
              "      <td>0</td>\n",
              "      <td>0</td>\n",
              "      <td>0</td>\n",
              "      <td>0</td>\n",
              "      <td>0</td>\n",
              "      <td>0</td>\n",
              "      <td>40,39723</td>\n",
              "      <td>-3,99894</td>\n",
              "      <td>NaN</td>\n",
              "      <td>NaN</td>\n",
              "    </tr>\n",
              "    <tr>\n",
              "      <th>11905</th>\n",
              "      <td>11906</td>\n",
              "      <td>153945932</td>\n",
              "      <td>False</td>\n",
              "      <td>aliseda servicios de gestion inmobiliaria</td>\n",
              "      <td>911368198.0</td>\n",
              "      <td>https://www.fotocasa.es/es/comprar/vivienda/ma...</td>\n",
              "      <td>NaN</td>\n",
              "      <td>NaN</td>\n",
              "      <td>100.0</td>\n",
              "      <td>152250</td>\n",
              "      <td>...</td>\n",
              "      <td>0</td>\n",
              "      <td>0</td>\n",
              "      <td>0</td>\n",
              "      <td>0</td>\n",
              "      <td>0</td>\n",
              "      <td>1</td>\n",
              "      <td>40,47349</td>\n",
              "      <td>-3,36515</td>\n",
              "      <td>NaN</td>\n",
              "      <td>NaN</td>\n",
              "    </tr>\n",
              "    <tr>\n",
              "      <th>3319</th>\n",
              "      <td>3320</td>\n",
              "      <td>152564823</td>\n",
              "      <td>False</td>\n",
              "      <td>aproperties</td>\n",
              "      <td>914890879.0</td>\n",
              "      <td>https://www.fotocasa.es/es/comprar/vivienda/ma...</td>\n",
              "      <td>4.0</td>\n",
              "      <td>3.0</td>\n",
              "      <td>200.0</td>\n",
              "      <td>1320000</td>\n",
              "      <td>...</td>\n",
              "      <td>0</td>\n",
              "      <td>0</td>\n",
              "      <td>0</td>\n",
              "      <td>0</td>\n",
              "      <td>0</td>\n",
              "      <td>0</td>\n",
              "      <td>40,42092</td>\n",
              "      <td>-3,69983</td>\n",
              "      <td>NaN</td>\n",
              "      <td>NaN</td>\n",
              "    </tr>\n",
              "    <tr>\n",
              "      <th>2345</th>\n",
              "      <td>2346</td>\n",
              "      <td>152424227</td>\n",
              "      <td>False</td>\n",
              "      <td>mr house</td>\n",
              "      <td>911369017.0</td>\n",
              "      <td>https://www.fotocasa.es/es/comprar/vivienda/pa...</td>\n",
              "      <td>2.0</td>\n",
              "      <td>2.0</td>\n",
              "      <td>81.0</td>\n",
              "      <td>149500</td>\n",
              "      <td>...</td>\n",
              "      <td>0</td>\n",
              "      <td>0</td>\n",
              "      <td>0</td>\n",
              "      <td>0</td>\n",
              "      <td>0</td>\n",
              "      <td>0</td>\n",
              "      <td>40,2367357</td>\n",
              "      <td>-3,7684312</td>\n",
              "      <td>NaN</td>\n",
              "      <td>NaN</td>\n",
              "    </tr>\n",
              "    <tr>\n",
              "      <th>2453</th>\n",
              "      <td>2454</td>\n",
              "      <td>153258497</td>\n",
              "      <td>False</td>\n",
              "      <td>engel volkers madrid</td>\n",
              "      <td>910758015.0</td>\n",
              "      <td>https://www.fotocasa.es/es/comprar/vivienda/tr...</td>\n",
              "      <td>NaN</td>\n",
              "      <td>6.0</td>\n",
              "      <td>480.0</td>\n",
              "      <td>870000</td>\n",
              "      <td>...</td>\n",
              "      <td>0</td>\n",
              "      <td>0</td>\n",
              "      <td>0</td>\n",
              "      <td>0</td>\n",
              "      <td>0</td>\n",
              "      <td>0</td>\n",
              "      <td>40,59254</td>\n",
              "      <td>-3,58344</td>\n",
              "      <td>NaN</td>\n",
              "      <td>NaN</td>\n",
              "    </tr>\n",
              "    <tr>\n",
              "      <th>3656</th>\n",
              "      <td>3657</td>\n",
              "      <td>153552213</td>\n",
              "      <td>False</td>\n",
              "      <td>villa gestiones inmobiliarias</td>\n",
              "      <td>NaN</td>\n",
              "      <td>https://www.fotocasa.es/es/comprar/vivienda/sa...</td>\n",
              "      <td>3.0</td>\n",
              "      <td>1.0</td>\n",
              "      <td>82.0</td>\n",
              "      <td>127500</td>\n",
              "      <td>...</td>\n",
              "      <td>0</td>\n",
              "      <td>0</td>\n",
              "      <td>0</td>\n",
              "      <td>0</td>\n",
              "      <td>0</td>\n",
              "      <td>0</td>\n",
              "      <td>40,3955</td>\n",
              "      <td>-3,66676</td>\n",
              "      <td>NaN</td>\n",
              "      <td>NaN</td>\n",
              "    </tr>\n",
              "  </tbody>\n",
              "</table>\n",
              "<p>10 rows × 37 columns</p>\n",
              "</div>"
            ],
            "text/plain": [
              "       Unnamed: 0  id_realEstates  isNew  \\\n",
              "11956       11957       153704529  False   \n",
              "7285         7286       150530836  False   \n",
              "14035       14036       153921873  False   \n",
              "10823       10824       150512853  False   \n",
              "5778         5779       148949209  False   \n",
              "11905       11906       153945932  False   \n",
              "3319         3320       152564823  False   \n",
              "2345         2346       152424227  False   \n",
              "2453         2454       153258497  False   \n",
              "3656         3657       153552213  False   \n",
              "\n",
              "                                 realEstate_name  phone_realEstate  \\\n",
              "11956                                 habita mad       918007061.0   \n",
              "7285        desarrollo de viviendas nueva ciudad       916358709.0   \n",
              "14035                                  garsierra       912179623.0   \n",
              "10823                                 covibarges       912175971.0   \n",
              "5778                                       urban       912780256.0   \n",
              "11905  aliseda servicios de gestion inmobiliaria       911368198.0   \n",
              "3319                                 aproperties       914890879.0   \n",
              "2345                                    mr house       911369017.0   \n",
              "2453                        engel volkers madrid       910758015.0   \n",
              "3656               villa gestiones inmobiliarias               NaN   \n",
              "\n",
              "                                            url_inmueble  rooms  bathrooms  \\\n",
              "11956  https://www.fotocasa.es/es/comprar/vivienda/gu...    3.0        1.0   \n",
              "7285   https://www.fotocasa.es/vivienda/alcala-de-hen...    3.0        2.0   \n",
              "14035  https://www.fotocasa.es/es/comprar/vivienda/ti...    1.0        2.0   \n",
              "10823  https://www.fotocasa.es/vivienda/arganda-del-r...    3.0        2.0   \n",
              "5778   https://www.fotocasa.es/es/comprar/vivienda/pa...    4.0        4.0   \n",
              "11905  https://www.fotocasa.es/es/comprar/vivienda/ma...    NaN        NaN   \n",
              "3319   https://www.fotocasa.es/es/comprar/vivienda/ma...    4.0        3.0   \n",
              "2345   https://www.fotocasa.es/es/comprar/vivienda/pa...    2.0        2.0   \n",
              "2453   https://www.fotocasa.es/es/comprar/vivienda/tr...    NaN        6.0   \n",
              "3656   https://www.fotocasa.es/es/comprar/vivienda/sa...    3.0        1.0   \n",
              "\n",
              "       surface    price  ... level4Id level5Id level6Id level7Id level8Id  \\\n",
              "11956     72.0   214000  ...        0        0        0        0        0   \n",
              "7285     112.0   243800  ...        0        0        0        0        0   \n",
              "14035     72.0    85000  ...        0        0        0        0        0   \n",
              "10823    107.0   255000  ...        0        0        0        0        0   \n",
              "5778       NaN   439000  ...        0        0        0        0        0   \n",
              "11905    100.0   152250  ...        0        0        0        0        0   \n",
              "3319     200.0  1320000  ...        0        0        0        0        0   \n",
              "2345      81.0   149500  ...        0        0        0        0        0   \n",
              "2453     480.0   870000  ...        0        0        0        0        0   \n",
              "3656      82.0   127500  ...        0        0        0        0        0   \n",
              "\n",
              "      accuracy    latitude   longitude zipCode customZone  \n",
              "11956        0    40,46449    -3,63265     NaN        NaN  \n",
              "7285         0    40,23768    -3,77423     NaN        NaN  \n",
              "14035        1  40,5506749  -3,3772946     NaN        NaN  \n",
              "10823        1    40,38219    -3,53069     NaN        NaN  \n",
              "5778         0    40,39723    -3,99894     NaN        NaN  \n",
              "11905        1    40,47349    -3,36515     NaN        NaN  \n",
              "3319         0    40,42092    -3,69983     NaN        NaN  \n",
              "2345         0  40,2367357  -3,7684312     NaN        NaN  \n",
              "2453         0    40,59254    -3,58344     NaN        NaN  \n",
              "3656         0     40,3955    -3,66676     NaN        NaN  \n",
              "\n",
              "[10 rows x 37 columns]"
            ]
          },
          "execution_count": 5,
          "metadata": {},
          "output_type": "execute_result"
        }
      ],
      "source": [
        "df_raw.sample(10, random_state=2025)"
      ]
    },
    {
      "cell_type": "markdown",
      "id": "fdb2ca24",
      "metadata": {},
      "source": [
        "🔥 Step 4:  \n",
        "   Luego del sample, seguimos investigando el df, identificando, nan, zeros, y valores unicos de cada columna \n",
        "> Para esto usamos la funcion que definimos mas arriba count_nan_zeros  \n",
        "> Tip:  \n",
        "> Esta funcion nos servira para todos los dataframes en los que trabajemos. Asi que sera util agregarla al importar librerias. "
      ]
    },
    {
      "cell_type": "code",
      "execution_count": 6,
      "id": "eab33350",
      "metadata": {},
      "outputs": [
        {
          "data": {
            "text/html": [
              "<div>\n",
              "<style scoped>\n",
              "    .dataframe tbody tr th:only-of-type {\n",
              "        vertical-align: middle;\n",
              "    }\n",
              "\n",
              "    .dataframe tbody tr th {\n",
              "        vertical-align: top;\n",
              "    }\n",
              "\n",
              "    .dataframe thead th {\n",
              "        text-align: right;\n",
              "    }\n",
              "</style>\n",
              "<table border=\"1\" class=\"dataframe\">\n",
              "  <thead>\n",
              "    <tr style=\"text-align: right;\">\n",
              "      <th></th>\n",
              "      <th>NaNs</th>\n",
              "      <th>Zeros</th>\n",
              "      <th>Uniques</th>\n",
              "    </tr>\n",
              "  </thead>\n",
              "  <tbody>\n",
              "    <tr>\n",
              "      <th>Unnamed: 0</th>\n",
              "      <td>0</td>\n",
              "      <td>0</td>\n",
              "      <td>15335</td>\n",
              "    </tr>\n",
              "    <tr>\n",
              "      <th>id_realEstates</th>\n",
              "      <td>0</td>\n",
              "      <td>0</td>\n",
              "      <td>14217</td>\n",
              "    </tr>\n",
              "    <tr>\n",
              "      <th>isNew</th>\n",
              "      <td>0</td>\n",
              "      <td>15198</td>\n",
              "      <td>2</td>\n",
              "    </tr>\n",
              "    <tr>\n",
              "      <th>realEstate_name</th>\n",
              "      <td>10</td>\n",
              "      <td>0</td>\n",
              "      <td>1821</td>\n",
              "    </tr>\n",
              "    <tr>\n",
              "      <th>phone_realEstate</th>\n",
              "      <td>794</td>\n",
              "      <td>0</td>\n",
              "      <td>1807</td>\n",
              "    </tr>\n",
              "    <tr>\n",
              "      <th>url_inmueble</th>\n",
              "      <td>0</td>\n",
              "      <td>0</td>\n",
              "      <td>493</td>\n",
              "    </tr>\n",
              "    <tr>\n",
              "      <th>rooms</th>\n",
              "      <td>353</td>\n",
              "      <td>0</td>\n",
              "      <td>17</td>\n",
              "    </tr>\n",
              "    <tr>\n",
              "      <th>bathrooms</th>\n",
              "      <td>345</td>\n",
              "      <td>0</td>\n",
              "      <td>14</td>\n",
              "    </tr>\n",
              "    <tr>\n",
              "      <th>surface</th>\n",
              "      <td>1250</td>\n",
              "      <td>0</td>\n",
              "      <td>728</td>\n",
              "    </tr>\n",
              "    <tr>\n",
              "      <th>price</th>\n",
              "      <td>0</td>\n",
              "      <td>60</td>\n",
              "      <td>2633</td>\n",
              "    </tr>\n",
              "    <tr>\n",
              "      <th>date</th>\n",
              "      <td>0</td>\n",
              "      <td>0</td>\n",
              "      <td>4481</td>\n",
              "    </tr>\n",
              "    <tr>\n",
              "      <th>description</th>\n",
              "      <td>142</td>\n",
              "      <td>0</td>\n",
              "      <td>11966</td>\n",
              "    </tr>\n",
              "    <tr>\n",
              "      <th>address</th>\n",
              "      <td>0</td>\n",
              "      <td>0</td>\n",
              "      <td>5260</td>\n",
              "    </tr>\n",
              "    <tr>\n",
              "      <th>country</th>\n",
              "      <td>0</td>\n",
              "      <td>0</td>\n",
              "      <td>1</td>\n",
              "    </tr>\n",
              "    <tr>\n",
              "      <th>level1</th>\n",
              "      <td>0</td>\n",
              "      <td>0</td>\n",
              "      <td>1</td>\n",
              "    </tr>\n",
              "    <tr>\n",
              "      <th>level2</th>\n",
              "      <td>0</td>\n",
              "      <td>0</td>\n",
              "      <td>1</td>\n",
              "    </tr>\n",
              "    <tr>\n",
              "      <th>level3</th>\n",
              "      <td>0</td>\n",
              "      <td>0</td>\n",
              "      <td>7</td>\n",
              "    </tr>\n",
              "    <tr>\n",
              "      <th>level4</th>\n",
              "      <td>6643</td>\n",
              "      <td>0</td>\n",
              "      <td>77</td>\n",
              "    </tr>\n",
              "    <tr>\n",
              "      <th>level5</th>\n",
              "      <td>0</td>\n",
              "      <td>0</td>\n",
              "      <td>168</td>\n",
              "    </tr>\n",
              "    <tr>\n",
              "      <th>level6</th>\n",
              "      <td>14627</td>\n",
              "      <td>0</td>\n",
              "      <td>19</td>\n",
              "    </tr>\n",
              "    <tr>\n",
              "      <th>level7</th>\n",
              "      <td>2277</td>\n",
              "      <td>0</td>\n",
              "      <td>247</td>\n",
              "    </tr>\n",
              "    <tr>\n",
              "      <th>level8</th>\n",
              "      <td>8579</td>\n",
              "      <td>0</td>\n",
              "      <td>143</td>\n",
              "    </tr>\n",
              "    <tr>\n",
              "      <th>upperLevel</th>\n",
              "      <td>0</td>\n",
              "      <td>0</td>\n",
              "      <td>512</td>\n",
              "    </tr>\n",
              "    <tr>\n",
              "      <th>countryId</th>\n",
              "      <td>0</td>\n",
              "      <td>15335</td>\n",
              "      <td>1</td>\n",
              "    </tr>\n",
              "    <tr>\n",
              "      <th>level1Id</th>\n",
              "      <td>0</td>\n",
              "      <td>15335</td>\n",
              "      <td>1</td>\n",
              "    </tr>\n",
              "    <tr>\n",
              "      <th>level2Id</th>\n",
              "      <td>0</td>\n",
              "      <td>15335</td>\n",
              "      <td>1</td>\n",
              "    </tr>\n",
              "    <tr>\n",
              "      <th>level3Id</th>\n",
              "      <td>0</td>\n",
              "      <td>15335</td>\n",
              "      <td>1</td>\n",
              "    </tr>\n",
              "    <tr>\n",
              "      <th>level4Id</th>\n",
              "      <td>0</td>\n",
              "      <td>15335</td>\n",
              "      <td>1</td>\n",
              "    </tr>\n",
              "    <tr>\n",
              "      <th>level5Id</th>\n",
              "      <td>0</td>\n",
              "      <td>15335</td>\n",
              "      <td>1</td>\n",
              "    </tr>\n",
              "    <tr>\n",
              "      <th>level6Id</th>\n",
              "      <td>0</td>\n",
              "      <td>15335</td>\n",
              "      <td>1</td>\n",
              "    </tr>\n",
              "    <tr>\n",
              "      <th>level7Id</th>\n",
              "      <td>0</td>\n",
              "      <td>15335</td>\n",
              "      <td>1</td>\n",
              "    </tr>\n",
              "    <tr>\n",
              "      <th>level8Id</th>\n",
              "      <td>0</td>\n",
              "      <td>15335</td>\n",
              "      <td>1</td>\n",
              "    </tr>\n",
              "    <tr>\n",
              "      <th>accuracy</th>\n",
              "      <td>0</td>\n",
              "      <td>12776</td>\n",
              "      <td>2</td>\n",
              "    </tr>\n",
              "    <tr>\n",
              "      <th>latitude</th>\n",
              "      <td>0</td>\n",
              "      <td>0</td>\n",
              "      <td>10865</td>\n",
              "    </tr>\n",
              "    <tr>\n",
              "      <th>longitude</th>\n",
              "      <td>0</td>\n",
              "      <td>0</td>\n",
              "      <td>10734</td>\n",
              "    </tr>\n",
              "    <tr>\n",
              "      <th>zipCode</th>\n",
              "      <td>15335</td>\n",
              "      <td>0</td>\n",
              "      <td>0</td>\n",
              "    </tr>\n",
              "    <tr>\n",
              "      <th>customZone</th>\n",
              "      <td>15335</td>\n",
              "      <td>0</td>\n",
              "      <td>0</td>\n",
              "    </tr>\n",
              "  </tbody>\n",
              "</table>\n",
              "</div>"
            ],
            "text/plain": [
              "                   NaNs  Zeros  Uniques\n",
              "Unnamed: 0            0      0    15335\n",
              "id_realEstates        0      0    14217\n",
              "isNew                 0  15198        2\n",
              "realEstate_name      10      0     1821\n",
              "phone_realEstate    794      0     1807\n",
              "url_inmueble          0      0      493\n",
              "rooms               353      0       17\n",
              "bathrooms           345      0       14\n",
              "surface            1250      0      728\n",
              "price                 0     60     2633\n",
              "date                  0      0     4481\n",
              "description         142      0    11966\n",
              "address               0      0     5260\n",
              "country               0      0        1\n",
              "level1                0      0        1\n",
              "level2                0      0        1\n",
              "level3                0      0        7\n",
              "level4             6643      0       77\n",
              "level5                0      0      168\n",
              "level6            14627      0       19\n",
              "level7             2277      0      247\n",
              "level8             8579      0      143\n",
              "upperLevel            0      0      512\n",
              "countryId             0  15335        1\n",
              "level1Id              0  15335        1\n",
              "level2Id              0  15335        1\n",
              "level3Id              0  15335        1\n",
              "level4Id              0  15335        1\n",
              "level5Id              0  15335        1\n",
              "level6Id              0  15335        1\n",
              "level7Id              0  15335        1\n",
              "level8Id              0  15335        1\n",
              "accuracy              0  12776        2\n",
              "latitude              0      0    10865\n",
              "longitude             0      0    10734\n",
              "zipCode           15335      0        0\n",
              "customZone        15335      0        0"
            ]
          },
          "execution_count": 6,
          "metadata": {},
          "output_type": "execute_result"
        }
      ],
      "source": [
        "count_nan_zeros_uniques(df_raw)"
      ]
    },
    {
      "cell_type": "code",
      "execution_count": 7,
      "id": "9a9be099",
      "metadata": {},
      "outputs": [],
      "source": [
        "# Esto nos sirve para tomar desiciones. \n",
        "# Ejemplo:\n",
        "\n",
        "#🟡 COLUMNAS CON UN SOLO VALOR UNICO: \n",
        "    # los datos con un solo valor unico no tienen variabilidad, \n",
        "    # la ausencia de variabilidad me quita especificacion, me quita explicacion \n",
        "    # Implica ausencia de Analisis, de Explicabilidad, AUSENCIA DE PREDICTIBILIDAD. \n",
        "    # por lo tanto esas columnas las quito.\n",
        "    # Si tengo un grupo de peruanos, donde todos son peruanos. Que tengo para explicar? \n",
        "    # Nada, mas que todos son peruanos.\n",
        "\n",
        "    # \"country\", level1, level2, countryId, level1Id hasta level8Id \n",
        "\n",
        "#🟡 COLUMNAS QUE SOLO CONTIENEN nans: \n",
        "    # Columnas que tienen = cantidad de Nans y Filas.\n",
        "    # No aportan informacion, asi que las sacamos.\n",
        "\n",
        "    # zipCode, customZone\n",
        "\n",
        "\n",
        "#🟡 COLUMNAS CON = cantidad de Uniques que Raws: \n",
        "    # Columnas que tienen = cantidad de Uniques y Filas.\n",
        "    # Generalmente son los Id Fields.\n",
        "    # No aportan informacion, asi que las sacamos.\n",
        "\n",
        "    # Unnamed:0\n"
      ]
    },
    {
      "cell_type": "markdown",
      "id": "c7437314",
      "metadata": {},
      "source": [
        "🔥 Step 5: generamos el dataframe df_baking, para comenzar a limpiar el dataframe\n"
      ]
    },
    {
      "cell_type": "code",
      "execution_count": 8,
      "id": "1d2d8fef",
      "metadata": {},
      "outputs": [],
      "source": [
        "# NUNCA HACEMOS TRANSFORMACIONES CON RAW. \n",
        "\n",
        "df_baking = df_raw.copy() # Copio el rawdata y lo guardo en df_baking"
      ]
    },
    {
      "cell_type": "markdown",
      "id": "7d765753",
      "metadata": {},
      "source": [
        "🔥 Step 6: Eliminamos todas las columnas que no sirven"
      ]
    },
    {
      "cell_type": "code",
      "execution_count": null,
      "id": "b705d472",
      "metadata": {},
      "outputs": [],
      "source": [
        "# Como vimos en steps anteriores, la primer y ultimas dos columnas no sirven.\n",
        "# Las eliminamos de esta forma:\n",
        "df_baking = df_baking.iloc[:,1:-2] \n",
        "# → iloc selecciona informacion en base al nro de la fila y la columna. \n",
        "#   al dejar el primer parametro vacio, le estoy diciendo que quiero todas las filas.\n",
        "# → Con \"1:-2\" Como se le este slicing:  No voy a tomar ni la primer columna (la columna 0), \n",
        "#   ni la penultima, ni la ultima.\n",
        "\n",
        "\n",
        "# Ahora eliminamos con .drop([]) el resto de las columnas que no sirven, colocando axis =1 \n",
        "# para indicar que son columnas.\n",
        "# No es buena practica tener que scrollear para leer una linea, asi que lo hacemos en partes.\n",
        "df_baking = df_baking.drop(['country','level1','level2'], axis = 1)\n",
        "df_baking = df_baking.drop(['countryId','level1Id','level2Id','level3Id','level4Id'], axis = 1)\n",
        "df_baking = df_baking.drop(['level5Id','level6Id','level7Id','level8Id'], axis = 1)"
      ]
    },
    {
      "cell_type": "markdown",
      "id": "543b3b8f",
      "metadata": {},
      "source": [
        "🔥 Step 7: Definimos el data frame definitivo con el que trabajare usando .copy() y lo revisamos con .info()"
      ]
    },
    {
      "cell_type": "code",
      "execution_count": 31,
      "id": "c0c835bc",
      "metadata": {},
      "outputs": [
        {
          "name": "stdout",
          "output_type": "stream",
          "text": [
            "<class 'pandas.core.frame.DataFrame'>\n",
            "RangeIndex: 15335 entries, 0 to 15334\n",
            "Data columns (total 22 columns):\n",
            " #   Column            Non-Null Count  Dtype  \n",
            "---  ------            --------------  -----  \n",
            " 0   id_realEstates    15335 non-null  int64  \n",
            " 1   isNew             15335 non-null  bool   \n",
            " 2   realEstate_name   15325 non-null  object \n",
            " 3   phone_realEstate  14541 non-null  float64\n",
            " 4   url_inmueble      15335 non-null  object \n",
            " 5   rooms             14982 non-null  float64\n",
            " 6   bathrooms         14990 non-null  float64\n",
            " 7   surface           14085 non-null  float64\n",
            " 8   price             15335 non-null  int64  \n",
            " 9   date              15335 non-null  object \n",
            " 10  description       15193 non-null  object \n",
            " 11  address           15335 non-null  object \n",
            " 12  level3            15335 non-null  object \n",
            " 13  level4            8692 non-null   object \n",
            " 14  level5            15335 non-null  object \n",
            " 15  level6            708 non-null    object \n",
            " 16  level7            13058 non-null  object \n",
            " 17  level8            6756 non-null   object \n",
            " 18  upperLevel        15335 non-null  object \n",
            " 19  accuracy          15335 non-null  int64  \n",
            " 20  latitude          15335 non-null  object \n",
            " 21  longitude         15335 non-null  object \n",
            "dtypes: bool(1), float64(4), int64(3), object(14)\n",
            "memory usage: 2.5+ MB\n"
          ]
        }
      ],
      "source": [
        "df = df_baking.copy()\n",
        "df.info()"
      ]
    },
    {
      "attachments": {},
      "cell_type": "markdown",
      "id": "latin-guest",
      "metadata": {},
      "source": [
        "#### Ejercicio 01. ¿Cuál es la casa más cara en todo el dataset? (★☆☆)\n",
        "\n",
        "Imprime la dirección y el precio de la casa seleccionada. Por ejemplo:\n",
        "\n",
        "`La casa con dirección en Calle del Prado, Nº20 es la más cara y su precio es de 5000000 USD`"
      ]
    },
    {
      "cell_type": "code",
      "execution_count": null,
      "id": "developing-optimum",
      "metadata": {},
      "outputs": [
        {
          "name": "stdout",
          "output_type": "stream",
          "text": [
            "La casa con la direccion en El Escorial es la mas cara y su precio es de 8500000 USD\n"
          ]
        }
      ],
      "source": [
        "indice_maximo = df.loc[df['price'].idxmax()]\n",
        "address = indice_maximo[\"address\"]\n",
        "price =  indice_maximo['price']\n",
        "print(f'La casa con la direccion en {address} es la mas cara y su precio es de {price} USD')\n",
        "\n",
        "# ▶  Explicación x Pasos  ◀:\n",
        "\n",
        "#   ◯ df['price'].idxmax()\n",
        "#       → df['price'] selecciona la columna de precios dentro del DataFrame df.\n",
        "#       → .idxmax() devuelve el índice de la fila con el valor más alto en esa columna.\n",
        "#       → Qué significa \"índice\" en este contexto?\n",
        "#       → El índice (index) en un DataFrame es el identificador único de cada fila.\n",
        "\n",
        "#   ◯ df.loc[df['price'].idxmax()]\n",
        "#       → df.loc[...] se usa para seleccionar la fila completa correspondiente al índice obtenido en el paso anterior.\n",
        "#       → indice_maximo almacena toda la información de la casa más cara.\n",
        "\n",
        "#   ◯ Extraer la dirección y el precio:\n",
        "#       → address = indice_maximo[\"address\"] obtiene la dirección de la casa.\n",
        "#       → price = indice_maximo['price'] obtiene el precio de la casa.\n",
        "\n",
        "#   ◯ Imprimir el resultado:\n",
        "#       → La f-string (f'...') permite insertar variables dentro del texto de manera más clara y legible.\n",
        "#       → El mensaje final imprime la dirección y el precio de la casa más cara.\n",
        "\n"
      ]
    },
    {
      "attachments": {},
      "cell_type": "markdown",
      "id": "lesser-cosmetic",
      "metadata": {},
      "source": [
        "#### Ejercicio 02. ¿Cuál es la casa más barata del dataset? (★☆☆)\n",
        "\n",
        "Imprime la dirección y el precio de la casa seleccionada. Por ejemplo:\n",
        "\n",
        "`La casa con dirección en Calle Alcalá, Nº58 es la más barata y su precio es de 12000 USD`"
      ]
    },
    {
      "cell_type": "code",
      "execution_count": null,
      "id": "lovely-oasis",
      "metadata": {},
      "outputs": [
        {
          "name": "stdout",
          "output_type": "stream",
          "text": [
            "La casa con la direccion en Berlin, Coslada es la mas barata y su precio es de 600 USD\n"
          ]
        }
      ],
      "source": [
        "df_filtrado = df[df['price']> 0]\n",
        "indice_minimo = df_filtrado.loc[df_filtrado['price'].idxmin()]\n",
        "address = indice_minimo[\"address\"]\n",
        "price =  indice_minimo['price']\n",
        "print(f'La casa con la direccion en {address} es la mas barata y su precio es de {price} USD')\n",
        "\n",
        "# ▶  Explicación x Pasos : ◀ \n",
        "\n",
        "# ◯ Filtrar casas con precio mayor a 0   \n",
        "#    df_filtrado = df[df['price'] > 0]\n",
        "#    → Se crea un nuevo DataFrame df_filtrado que solo contiene las filas donde el precio (price) es mayor a 0.\n",
        "#    → Esto evita considerar datos incorrectos como 0 o valores negativos en la búsqueda de la casa más barata.\n",
        "\n",
        "# ◯ Encontrar la casa con el precio más bajo \n",
        "#    indice_minimo = df_filtrado.loc[df_filtrado['price'].idxmin()]\n",
        "#    → df_filtrado['price'].idxmin() obtiene el índice de la casa con el menor precio dentro del conjunto filtrado.\n",
        "#    → df_filtrado.loc[...] recupera la fila completa correspondiente a ese índice.\n",
        "\n",
        "# ◯ Extraer información de la casa más barata \n",
        "#    address = indice_minimo[\"address\"]  # Obtiene la dirección\n",
        "#    price = indice_minimo['price']  # Obtiene el precio\n",
        "#    → address almacena la dirección de la casa con el precio más bajo.\n",
        "#    → price almacena el precio de esa casa.\n",
        "\n",
        "# ◯ Mostrar el resultado en pantalla \n",
        "#    print(f'La casa con la direccion en {address} es la mas barata y su precio es de {price} USD')\n",
        "#    → Se usa una f-string para imprimir la dirección y el precio de la casa más barata en un formato amigable.\n"
      ]
    },
    {
      "attachments": {},
      "cell_type": "markdown",
      "id": "compliant-fellowship",
      "metadata": {},
      "source": [
        "#### Ejercicio 03. ¿Cuál es la casa más grande y la más pequeña del dataset? (★☆☆)\n",
        "\n",
        "Imprime la dirección y el área de las casas seleccionadas. Por ejemplo:\n",
        "\n",
        "`La casa más grande está ubicada en Calle Gran Vía, Nº38 y su superficie es de 5000 metros`\n",
        "\n",
        "`La casa más pequeña está ubicada en Calle Mayor, Nº12 y su superficie es de 200 metros`"
      ]
    },
    {
      "cell_type": "code",
      "execution_count": 39,
      "id": "every-tiffany",
      "metadata": {},
      "outputs": [
        {
          "name": "stdout",
          "output_type": "stream",
          "text": [
            "La casa mas grande esta ubicada en Sevilla la Nueva y su superficie es de 249000.0 metros\n",
            "La casa mas pequeña esta ubicada en Calle Amparo,  Madrid Capital y su superficie es de 15.0 metros\n"
          ]
        }
      ],
      "source": [
        "indice_maximo = df_filtrado.loc[df_filtrado['surface'].idxmax()]\n",
        "address = indice_maximo[\"address\"]\n",
        "surface =  indice_maximo['surface']\n",
        "print(f'La casa mas grande esta ubicada en {address} y su superficie es de {surface} metros')\n",
        "\n",
        "# ▶ Explicación x Pasos ◀:\n",
        "\n",
        "#   ◯ df_filtrado['surface'].idxmax()\n",
        "#       → df_filtrado['surface'] selecciona la columna de superficies dentro del DataFrame df_filtrado.\n",
        "#       → .idxmax() devuelve el índice de la fila con el valor más grande en la columna surface.\n",
        "#       → ¿Qué significa \"índice\" en este contexto?\n",
        "#       → El índice (index) en un DataFrame es el identificador único de cada fila.\n",
        "\n",
        "#   ◯ df_filtrado.loc[df_filtrado['surface'].idxmax()]\n",
        "#       → df_filtrado.loc[...] se usa para seleccionar la fila completa correspondiente al índice obtenido en el paso anterior.\n",
        "#       → indice_maximo almacena toda la información de la casa con la mayor superficie.\n",
        "\n",
        "#   ◯ Extraer la dirección y la superficie:\n",
        "#       → address = indice_maximo[\"address\"] obtiene la dirección de la casa con mayor superficie.\n",
        "#       → surface = indice_maximo['surface'] obtiene la superficie de la casa más grande.\n",
        "\n",
        "#   ◯ Imprimir el resultado:\n",
        "#       → La f-string (f'...') permite insertar variables dentro del texto de manera más clara y legible.\n",
        "#       → El mensaje final imprime la dirección y la superficie de la casa más grande.\n",
        "\n",
        "\n",
        "\n",
        "indice_minimo = df_filtrado.loc[df_filtrado['surface'].idxmin()]\n",
        "address = indice_minimo[\"address\"]\n",
        "surface =  indice_minimo['surface']\n",
        "print(f'La casa mas pequeña esta ubicada en {address} y su superficie es de {surface} metros')\n",
        "\n",
        "# ▶  Explicación x Pasos  ◀:\n",
        "\n",
        "#   ◯ df_filtrado['surface'].idxmin()\n",
        "#       → df_filtrado['surface'] selecciona la columna de superficies dentro del DataFrame df_filtrado.\n",
        "#       → .idxmin() devuelve el índice de la fila con el valor más pequeño en la columna surface.\n",
        "#       → ¿Qué significa \"índice\" en este contexto?\n",
        "#       → El índice (index) en un DataFrame es el identificador único de cada fila.\n",
        "\n",
        "#   ◯ df_filtrado.loc[df_filtrado['surface'].idxmin()]\n",
        "#       → df_filtrado.loc[...] se usa para seleccionar la fila completa correspondiente al índice obtenido en el paso anterior.\n",
        "#       → indice_minimo almacena toda la información de la casa con la menor superficie.\n",
        "\n",
        "#   ◯ Extraer la dirección y la superficie:\n",
        "#       → address = indice_minimo[\"address\"] obtiene la dirección de la casa con menor superficie.\n",
        "#       → surface = indice_minimo['surface'] obtiene la superficie de la casa más pequeña.\n",
        "\n",
        "#   ◯ Imprimir el resultado:\n",
        "#       → La f-string (f'...') permite insertar variables dentro del texto de manera más clara y legible.\n",
        "#       → El mensaje final imprime la dirección y la superficie de la casa más pequeña.\n",
        "\n",
        "\n"
      ]
    },
    {
      "attachments": {},
      "cell_type": "markdown",
      "id": "danish-spirit",
      "metadata": {},
      "source": [
        "#### Ejercicio 04. ¿Cuantas poblaciones (columna level5) contiene el dataset? (★☆☆)\n",
        "\n",
        "Imprime el nombre de las poblaciones separadas por coma. Por ejemplo:\n",
        "\n",
        "`> print(populations)`\n",
        "\n",
        "`population1, population2, population3, ...`"
      ]
    },
    {
      "cell_type": "code",
      "execution_count": 13,
      "id": "exciting-accreditation",
      "metadata": {},
      "outputs": [],
      "source": [
        "# TODO"
      ]
    },
    {
      "attachments": {},
      "cell_type": "markdown",
      "id": "crazy-blame",
      "metadata": {},
      "source": [
        "#### Ejercicio 05. ¿El dataset contiene valores no admitidos (NAs)? (★☆☆)\n",
        "\n",
        "Imprima un booleano (`True` o `False`) seguido de la fila/columna que contiene el NAs."
      ]
    },
    {
      "cell_type": "code",
      "execution_count": 14,
      "id": "transparent-poetry",
      "metadata": {},
      "outputs": [],
      "source": [
        "# TODO"
      ]
    },
    {
      "attachments": {},
      "cell_type": "markdown",
      "id": "italic-hydrogen",
      "metadata": {},
      "source": [
        "#### Ejercicio 06. Elimina los NAs del dataset, si aplica (★★☆)\n",
        "\n",
        "Imprima una comparación entre las dimensiones del DataFrame original versus el DataFrame después de las eliminaciones.\n"
      ]
    },
    {
      "cell_type": "code",
      "execution_count": 15,
      "id": "administrative-roads",
      "metadata": {},
      "outputs": [],
      "source": [
        "# TODO"
      ]
    },
    {
      "attachments": {},
      "cell_type": "markdown",
      "id": "middle-china",
      "metadata": {},
      "source": [
        "#### Ejercicio 07. ¿Cuál la media de precios en la población (columna level5) de \"Arroyomolinos (Madrid)\"? (★★☆)\n",
        "\n",
        "Imprima el valor obtenido."
      ]
    },
    {
      "cell_type": "code",
      "execution_count": 16,
      "id": "nuclear-belief",
      "metadata": {},
      "outputs": [],
      "source": [
        "# TODO"
      ]
    },
    {
      "attachments": {},
      "cell_type": "markdown",
      "id": "concerned-radical",
      "metadata": {},
      "source": [
        "#### Ejercicio 08. Trazar el histograma de los precios para la población (level5 column) de \"Arroyomolinos (Madrid)\" y explica qué observas (★★☆)\n",
        "\n",
        "Imprime el histograma de los precios y escribe en la celda del Markdown un breve análisis del trazado.\n"
      ]
    },
    {
      "cell_type": "code",
      "execution_count": 17,
      "id": "sudden-message",
      "metadata": {},
      "outputs": [],
      "source": [
        "# TODO: Code"
      ]
    },
    {
      "attachments": {},
      "cell_type": "markdown",
      "id": "impressed-combination",
      "metadata": {},
      "source": [
        "**TODO: Markdown**. Para escribir aquí, haz doble clic en esta celda, elimina este contenido y coloca lo que quieras escribir. Luego ejecuta la celda."
      ]
    },
    {
      "attachments": {},
      "cell_type": "markdown",
      "id": "actual-edinburgh",
      "metadata": {},
      "source": [
        "#### Ejercicio 09. ¿Son los precios promedios de \"Valdemorillo\" y \"Galapagar\" los mismos? (★★☆)\n",
        "\n",
        "Imprime ambos promedios y escribe una conclusión sobre ellos."
      ]
    },
    {
      "cell_type": "code",
      "execution_count": 18,
      "id": "numeric-commerce",
      "metadata": {},
      "outputs": [],
      "source": [
        "# TODO"
      ]
    },
    {
      "attachments": {},
      "cell_type": "markdown",
      "id": "lonely-article",
      "metadata": {},
      "source": [
        "#### Ejercicio 10. ¿Son los promedios de precio por metro cuadrado (precio/m2) de \"Valdemorillo\" y \"Galapagar\" los mismos? (★★☆)\n",
        "\n",
        "Imprime ambos promedios de precio por metro cuadrado y escribe una conclusión sobre ellos.\n",
        "\n",
        "Pista: Crea una nueva columna llamada `pps` (*price per square* o precio por metro cuadrado) y luego analiza los valores."
      ]
    },
    {
      "cell_type": "code",
      "execution_count": 19,
      "id": "hourly-globe",
      "metadata": {},
      "outputs": [],
      "source": [
        "# TODO"
      ]
    },
    {
      "attachments": {},
      "cell_type": "markdown",
      "id": "pleasant-invite",
      "metadata": {},
      "source": [
        "#### Ejercicio 11. Analiza la relación entre la superficie y el precio de las casas. (★★☆)\n",
        "\n",
        "Pista: Puedes hacer un `scatter plot` y luego escribir una conclusión al respecto."
      ]
    },
    {
      "cell_type": "code",
      "execution_count": 20,
      "id": "common-drilling",
      "metadata": {},
      "outputs": [],
      "source": [
        "# TODO: Código"
      ]
    },
    {
      "attachments": {},
      "cell_type": "markdown",
      "id": "ahead-liquid",
      "metadata": {},
      "source": [
        "**TODO: Markdown**. Para escribir aquí, haz doble clic en esta celda, elimina este contenido y coloca lo que quieras escribir. Luego ejecuta la celda."
      ]
    },
    {
      "attachments": {},
      "cell_type": "markdown",
      "id": "coordinate-sunrise",
      "metadata": {},
      "source": [
        "#### Ejercicio 12. ¿Cuántas agencia de bienes raíces contiene el dataset? (★★☆)\n",
        "\n",
        "Imprime el valor obtenido."
      ]
    },
    {
      "cell_type": "code",
      "execution_count": 21,
      "id": "valid-honolulu",
      "metadata": {},
      "outputs": [],
      "source": [
        "# TODO"
      ]
    },
    {
      "attachments": {},
      "cell_type": "markdown",
      "id": "binding-ebony",
      "metadata": {},
      "source": [
        "#### Ejercicio 13. ¿Cuál es la población (columna level5) que contiene la mayor cantidad de casas?(★★☆)\n",
        "\n",
        "Imprima la población y el número de casas."
      ]
    },
    {
      "cell_type": "code",
      "execution_count": 22,
      "id": "static-perry",
      "metadata": {},
      "outputs": [],
      "source": [
        "# TODO"
      ]
    },
    {
      "attachments": {},
      "cell_type": "markdown",
      "id": "entire-classification",
      "metadata": {},
      "source": [
        "#### Ejercicio 14. Ahora vamos a trabajar con el \"cinturón sur\" de Madrid. Haz un subconjunto del DataFrame original que contenga las siguientes poblaciones (columna level5): \"Fuenlabrada\", \"Leganés\", \"Getafe\", \"Alcorcón\" (★★☆)\n",
        "\n",
        "Pista: Filtra el DataFrame original usando la columna `level5` y la función `isin`."
      ]
    },
    {
      "cell_type": "code",
      "execution_count": 23,
      "id": "binary-input",
      "metadata": {},
      "outputs": [],
      "source": [
        "# TODO"
      ]
    },
    {
      "attachments": {},
      "cell_type": "markdown",
      "id": "severe-fisher",
      "metadata": {},
      "source": [
        "#### Ejercicio 15. Traza un gráfico de barras de la mediana de los precios y explica lo que observas (debes usar el subconjunto obtenido del Ejercicio 14) (★★★)\n",
        "\n",
        "Imprima un gráfico de barras de la mediana de precios y escriba en la celda Markdown un breve análisis sobre el gráfico."
      ]
    },
    {
      "cell_type": "code",
      "execution_count": 24,
      "id": "lyric-bunch",
      "metadata": {},
      "outputs": [],
      "source": [
        "# TODO: Code"
      ]
    },
    {
      "attachments": {},
      "cell_type": "markdown",
      "id": "sublime-newspaper",
      "metadata": {},
      "source": [
        "**TODO: Markdown**. Para escribir aquí, haz doble clic en esta celda, elimina este contenido y coloca lo que quieras escribir. Luego ejecuta la celda."
      ]
    },
    {
      "attachments": {},
      "cell_type": "markdown",
      "id": "speaking-diamond",
      "metadata": {},
      "source": [
        "#### Ejercicio 16. Calcula la media y la varianza de muestra para las siguientes variables: precio, habitaciones, superficie y baños (debes usar el subconjunto obtenido del Ejercicio 14) (★★★)\n",
        "\n",
        "Imprime ambos valores por cada variable."
      ]
    },
    {
      "cell_type": "code",
      "execution_count": 25,
      "id": "random-feeling",
      "metadata": {},
      "outputs": [],
      "source": [
        "# TODO"
      ]
    },
    {
      "attachments": {},
      "cell_type": "markdown",
      "id": "revolutionary-matrix",
      "metadata": {},
      "source": [
        "#### Ejercicio 17. ¿Cuál es la casa más cara de cada población? Debes usar el subset obtenido en la pregunta 14 (★★☆)\n",
        "\n",
        "Imprime tanto la dirección como el precio de la casa seleccionada de cada población. Puedes imprimir un DataFrame o una sola línea para cada población."
      ]
    },
    {
      "cell_type": "code",
      "execution_count": 26,
      "id": "fifteen-browse",
      "metadata": {},
      "outputs": [],
      "source": [
        "# TODO"
      ]
    },
    {
      "attachments": {},
      "cell_type": "markdown",
      "id": "activated-knight",
      "metadata": {},
      "source": [
        "#### Ejercicio 18. Normaliza la variable de precios para cada población y traza los 4 histogramas en el mismo gráfico (debes usar el subconjunto obtenido en la pregunta 14) (★★★)\n",
        "\n",
        "Para el método de normalización, puedes usar el que consideres adecuado, no hay una única respuesta correcta para esta pregunta. Imprime el gráfico y escribe en la celda de Markdown un breve análisis sobre el gráfico.\n",
        "\n",
        "Pista: Puedes ayudarte revisando la demostración multihist de Matplotlib."
      ]
    },
    {
      "cell_type": "code",
      "execution_count": 27,
      "id": "civic-meditation",
      "metadata": {},
      "outputs": [],
      "source": [
        "# TODO"
      ]
    },
    {
      "attachments": {},
      "cell_type": "markdown",
      "id": "precise-heavy",
      "metadata": {},
      "source": [
        "**TODO: Markdown**. Para escribir aquí, haz doble clic en esta celda, elimina este contenido y coloca lo que quieras escribir. Luego ejecuta la celda."
      ]
    },
    {
      "attachments": {},
      "cell_type": "markdown",
      "id": "patent-jonathan",
      "metadata": {},
      "source": [
        "#### Ejercicio 19. ¿Qué puedes decir sobre el precio por metro cuadrado (precio/m2) entre los municipios de 'Getafe' y 'Alcorcón'? Debes usar el subconjunto obtenido en la pregunta 14 (★★☆)\n",
        "\n",
        "Pista: Crea una nueva columna llamada `pps` (price per square en inglés) y luego analiza los valores"
      ]
    },
    {
      "cell_type": "code",
      "execution_count": 28,
      "id": "initial-liverpool",
      "metadata": {},
      "outputs": [],
      "source": [
        "# TODO"
      ]
    },
    {
      "attachments": {},
      "cell_type": "markdown",
      "id": "enhanced-moscow",
      "metadata": {},
      "source": [
        "#### Ejercicio 20. Realiza el mismo gráfico para 4 poblaciones diferentes (columna level5) y colócalos en el mismo gráfico. Debes usar el subconjunto obtenido en la pregunta 14 (★★☆) \n",
        "Pista: Haz un diagrama de dispersión de cada población usando subgráficos (subplots)."
      ]
    },
    {
      "cell_type": "code",
      "execution_count": 29,
      "id": "accepting-airfare",
      "metadata": {},
      "outputs": [],
      "source": [
        "# TODO"
      ]
    },
    {
      "attachments": {},
      "cell_type": "markdown",
      "id": "blocked-effects",
      "metadata": {},
      "source": [
        "#### Ejercicio 21. Realiza un trazado de las coordenadas (columnas latitud y longitud) del cinturón sur de Madrid por color de cada población (debes usar el subconjunto obtenido del Ejercicio 14) (★★★★)\n",
        "\n",
        "Ejecuta la siguiente celda y luego comienza a codear en la siguiente. Debes implementar un código simple que transforme las columnas de coordenadas en un diccionario de Python (agrega más información si es necesario) y agrégala al mapa."
      ]
    },
    {
      "cell_type": "code",
      "execution_count": 30,
      "id": "headed-privacy",
      "metadata": {},
      "outputs": [
        {
          "ename": "AttributeError",
          "evalue": "Stamen",
          "output_type": "error",
          "traceback": [
            "\u001b[0;31m---------------------------------------------------------------------------\u001b[0m",
            "\u001b[0;31mKeyError\u001b[0m                                  Traceback (most recent call last)",
            "File \u001b[0;32m/workspaces/realestate-datacleanup-exercise/.venv/lib/python3.11/site-packages/xyzservices/lib.py:45\u001b[0m, in \u001b[0;36mBunch.__getattr__\u001b[0;34m(self, key)\u001b[0m\n\u001b[1;32m     44\u001b[0m \u001b[38;5;28;01mtry\u001b[39;00m:\n\u001b[0;32m---> 45\u001b[0m     \u001b[38;5;28;01mreturn\u001b[39;00m \u001b[38;5;28;43mself\u001b[39;49m\u001b[38;5;241;43m.\u001b[39;49m\u001b[38;5;21;43m__getitem__\u001b[39;49m\u001b[43m(\u001b[49m\u001b[43mkey\u001b[49m\u001b[43m)\u001b[49m\n\u001b[1;32m     46\u001b[0m \u001b[38;5;28;01mexcept\u001b[39;00m \u001b[38;5;167;01mKeyError\u001b[39;00m \u001b[38;5;28;01mas\u001b[39;00m err:\n",
            "\u001b[0;31mKeyError\u001b[0m: 'Stamen'",
            "\nThe above exception was the direct cause of the following exception:\n",
            "\u001b[0;31mAttributeError\u001b[0m                            Traceback (most recent call last)",
            "Cell \u001b[0;32mIn[30], line 6\u001b[0m\n\u001b[1;32m      1\u001b[0m \u001b[38;5;28;01mfrom\u001b[39;00m\u001b[38;5;250m \u001b[39m\u001b[38;5;21;01mipyleaflet\u001b[39;00m\u001b[38;5;250m \u001b[39m\u001b[38;5;28;01mimport\u001b[39;00m Map, basemaps\n\u001b[1;32m      3\u001b[0m \u001b[38;5;66;03m# Mapa centrado en (60 grados latitud y -2.2 grados longitud)\u001b[39;00m\n\u001b[1;32m      4\u001b[0m \u001b[38;5;66;03m# Latitud, longitud\u001b[39;00m\n\u001b[1;32m      5\u001b[0m \u001b[38;5;28mmap\u001b[39m \u001b[38;5;241m=\u001b[39m Map(center \u001b[38;5;241m=\u001b[39m (\u001b[38;5;241m60\u001b[39m, \u001b[38;5;241m-\u001b[39m\u001b[38;5;241m2.2\u001b[39m), zoom \u001b[38;5;241m=\u001b[39m \u001b[38;5;241m2\u001b[39m, min_zoom \u001b[38;5;241m=\u001b[39m \u001b[38;5;241m1\u001b[39m, max_zoom \u001b[38;5;241m=\u001b[39m \u001b[38;5;241m20\u001b[39m, \n\u001b[0;32m----> 6\u001b[0m     basemap\u001b[38;5;241m=\u001b[39m\u001b[43mbasemaps\u001b[49m\u001b[38;5;241;43m.\u001b[39;49m\u001b[43mStamen\u001b[49m\u001b[38;5;241m.\u001b[39mTerrain)\n\u001b[1;32m      7\u001b[0m \u001b[38;5;28mmap\u001b[39m\n",
            "File \u001b[0;32m/workspaces/realestate-datacleanup-exercise/.venv/lib/python3.11/site-packages/xyzservices/lib.py:47\u001b[0m, in \u001b[0;36mBunch.__getattr__\u001b[0;34m(self, key)\u001b[0m\n\u001b[1;32m     45\u001b[0m     \u001b[38;5;28;01mreturn\u001b[39;00m \u001b[38;5;28mself\u001b[39m\u001b[38;5;241m.\u001b[39m\u001b[38;5;21m__getitem__\u001b[39m(key)\n\u001b[1;32m     46\u001b[0m \u001b[38;5;28;01mexcept\u001b[39;00m \u001b[38;5;167;01mKeyError\u001b[39;00m \u001b[38;5;28;01mas\u001b[39;00m err:\n\u001b[0;32m---> 47\u001b[0m     \u001b[38;5;28;01mraise\u001b[39;00m \u001b[38;5;167;01mAttributeError\u001b[39;00m(key) \u001b[38;5;28;01mfrom\u001b[39;00m\u001b[38;5;250m \u001b[39m\u001b[38;5;21;01merr\u001b[39;00m\n",
            "\u001b[0;31mAttributeError\u001b[0m: Stamen"
          ]
        }
      ],
      "source": [
        "from ipyleaflet import Map, basemaps\n",
        "\n",
        "# Mapa centrado en (60 grados latitud y -2.2 grados longitud)\n",
        "# Latitud, longitud\n",
        "map = Map(center = (60, -2.2), zoom = 2, min_zoom = 1, max_zoom = 20, \n",
        "    basemap=basemaps.Stamen.Terrain)\n",
        "map"
      ]
    },
    {
      "cell_type": "code",
      "execution_count": null,
      "id": "present-mistress",
      "metadata": {},
      "outputs": [],
      "source": [
        "## Aquí: traza la coordenadas de los estados\n",
        "\n",
        "## PON TU CÓDIGO AQUÍ:\n"
      ]
    }
  ],
  "metadata": {
    "kernelspec": {
      "display_name": ".venv",
      "language": "python",
      "name": "python3"
    },
    "language_info": {
      "codemirror_mode": {
        "name": "ipython",
        "version": 3
      },
      "file_extension": ".py",
      "mimetype": "text/x-python",
      "name": "python",
      "nbconvert_exporter": "python",
      "pygments_lexer": "ipython3",
      "version": "3.11.4"
    }
  },
  "nbformat": 4,
  "nbformat_minor": 5
}
